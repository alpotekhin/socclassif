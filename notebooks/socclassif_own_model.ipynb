{
 "cells": [
  {
   "cell_type": "code",
   "execution_count": 1,
   "metadata": {},
   "outputs": [],
   "source": [
    "import pandas as pd\n",
    "import re\n",
    "import numpy as np\n",
    "import torch\n",
    "import seaborn as sns\n",
    "\n",
    "from matplotlib import pyplot as plt\n",
    "from torch.utils.data import Dataset, DataLoader\n",
    "from math import sqrt\n",
    "from tqdm.notebook import tqdm\n",
    "from sklearn.model_selection import train_test_split\n",
    "from sklearn.metrics import classification_report, f1_score\n",
    "from IPython.display import clear_output\n",
    "\n",
    "%matplotlib inline\n",
    "plt.style.use('seaborn-v0_8-whitegrid')\n"
   ]
  },
  {
   "cell_type": "code",
   "execution_count": 2,
   "metadata": {},
   "outputs": [
    {
     "data": {
      "text/plain": [
       "<torch._C.Generator at 0x2c5330c3170>"
      ]
     },
     "execution_count": 2,
     "metadata": {},
     "output_type": "execute_result"
    }
   ],
   "source": [
    "# Setting seed for reproducibility\n",
    "\n",
    "torch.manual_seed(16)"
   ]
  },
  {
   "cell_type": "code",
   "execution_count": 3,
   "metadata": {},
   "outputs": [],
   "source": [
    "# Getting our data\n",
    "\n",
    "df_comms = pd.read_csv(\"data/comments.csv\")\n",
    "df_posts = pd.read_csv(\"data/posts.csv\")"
   ]
  },
  {
   "cell_type": "code",
   "execution_count": 4,
   "metadata": {},
   "outputs": [],
   "source": [
    "df_merged = pd.concat(\n",
    "    [\n",
    "        df_comms[[\"comment_text\", \"comment_category\"]].rename(\n",
    "            columns={\"comment_text\": \"text\", \"comment_category\": \"target\"}\n",
    "        ),\n",
    "        df_posts[[\"post_text\", \"post_category\"]].rename(\n",
    "            columns={\"post_text\": \"text\", \"post_category\": \"target\"}\n",
    "        ),\n",
    "    ],\n",
    "    axis=0,\n",
    ")"
   ]
  },
  {
   "cell_type": "code",
   "execution_count": 5,
   "metadata": {},
   "outputs": [
    {
     "data": {
      "text/html": [
       "<div>\n",
       "<style scoped>\n",
       "    .dataframe tbody tr th:only-of-type {\n",
       "        vertical-align: middle;\n",
       "    }\n",
       "\n",
       "    .dataframe tbody tr th {\n",
       "        vertical-align: top;\n",
       "    }\n",
       "\n",
       "    .dataframe thead th {\n",
       "        text-align: right;\n",
       "    }\n",
       "</style>\n",
       "<table border=\"1\" class=\"dataframe\">\n",
       "  <thead>\n",
       "    <tr style=\"text-align: right;\">\n",
       "      <th></th>\n",
       "      <th>text</th>\n",
       "      <th>target</th>\n",
       "    </tr>\n",
       "  </thead>\n",
       "  <tbody>\n",
       "    <tr>\n",
       "      <th>0</th>\n",
       "      <td>Добрый вечер подскажите пожалуйста,как будут п...</td>\n",
       "      <td>u</td>\n",
       "    </tr>\n",
       "    <tr>\n",
       "      <th>1</th>\n",
       "      <td>[id163680619|Елена], нет, без регистрации же к...</td>\n",
       "      <td>o</td>\n",
       "    </tr>\n",
       "    <tr>\n",
       "      <th>2</th>\n",
       "      <td>Браво  Рахмон !\\nБраво  ПЕШВОИ МИЛЛАТ!</td>\n",
       "      <td>o</td>\n",
       "    </tr>\n",
       "    <tr>\n",
       "      <th>3</th>\n",
       "      <td>[id124559480|Яна], спасибо</td>\n",
       "      <td>u</td>\n",
       "    </tr>\n",
       "    <tr>\n",
       "      <th>4</th>\n",
       "      <td>[id222093963|Джамал], Ага 😄 тогда будьте счаст...</td>\n",
       "      <td>u</td>\n",
       "    </tr>\n",
       "    <tr>\n",
       "      <th>...</th>\n",
       "      <td>...</td>\n",
       "      <td>...</td>\n",
       "    </tr>\n",
       "    <tr>\n",
       "      <th>25414</th>\n",
       "      <td>Добрый день!\\nПодскажите график работы кабинет...</td>\n",
       "      <td>u</td>\n",
       "    </tr>\n",
       "    <tr>\n",
       "      <th>25415</th>\n",
       "      <td>Добрый день.\\nПодскажите пожалуйста кто знает....</td>\n",
       "      <td>o</td>\n",
       "    </tr>\n",
       "    <tr>\n",
       "      <th>25416</th>\n",
       "      <td>Добрый вечер! Подскажите, пожалуйста, кто знае...</td>\n",
       "      <td>u</td>\n",
       "    </tr>\n",
       "    <tr>\n",
       "      <th>25417</th>\n",
       "      <td>Добрый день! Подскажите, я гражданин Казахстан...</td>\n",
       "      <td>u</td>\n",
       "    </tr>\n",
       "    <tr>\n",
       "      <th>25418</th>\n",
       "      <td>Здравствуйте.. Наконец то в паспорт поставили ...</td>\n",
       "      <td>u</td>\n",
       "    </tr>\n",
       "  </tbody>\n",
       "</table>\n",
       "<p>206626 rows × 2 columns</p>\n",
       "</div>"
      ],
      "text/plain": [
       "                                                    text target\n",
       "0      Добрый вечер подскажите пожалуйста,как будут п...      u\n",
       "1      [id163680619|Елена], нет, без регистрации же к...      o\n",
       "2                 Браво  Рахмон !\\nБраво  ПЕШВОИ МИЛЛАТ!      o\n",
       "3                             [id124559480|Яна], спасибо      u\n",
       "4      [id222093963|Джамал], Ага 😄 тогда будьте счаст...      u\n",
       "...                                                  ...    ...\n",
       "25414  Добрый день!\\nПодскажите график работы кабинет...      u\n",
       "25415  Добрый день.\\nПодскажите пожалуйста кто знает....      o\n",
       "25416  Добрый вечер! Подскажите, пожалуйста, кто знае...      u\n",
       "25417  Добрый день! Подскажите, я гражданин Казахстан...      u\n",
       "25418  Здравствуйте.. Наконец то в паспорт поставили ...      u\n",
       "\n",
       "[206626 rows x 2 columns]"
      ]
     },
     "execution_count": 5,
     "metadata": {},
     "output_type": "execute_result"
    }
   ],
   "source": [
    "df_merged\n"
   ]
  },
  {
   "cell_type": "code",
   "execution_count": 6,
   "metadata": {},
   "outputs": [],
   "source": [
    "# Cleaning data from unknown labels\n",
    "\n",
    "df_merged = df_merged[df_merged[\"target\"] != \"u\"]\n",
    "df_merged.reset_index(drop=True, inplace=True)"
   ]
  },
  {
   "cell_type": "code",
   "execution_count": 7,
   "metadata": {},
   "outputs": [
    {
     "data": {
      "text/html": [
       "<div>\n",
       "<style scoped>\n",
       "    .dataframe tbody tr th:only-of-type {\n",
       "        vertical-align: middle;\n",
       "    }\n",
       "\n",
       "    .dataframe tbody tr th {\n",
       "        vertical-align: top;\n",
       "    }\n",
       "\n",
       "    .dataframe thead th {\n",
       "        text-align: right;\n",
       "    }\n",
       "</style>\n",
       "<table border=\"1\" class=\"dataframe\">\n",
       "  <thead>\n",
       "    <tr style=\"text-align: right;\">\n",
       "      <th></th>\n",
       "      <th>text</th>\n",
       "      <th>target</th>\n",
       "    </tr>\n",
       "  </thead>\n",
       "  <tbody>\n",
       "    <tr>\n",
       "      <th>0</th>\n",
       "      <td>[id163680619|Елена], нет, без регистрации же к...</td>\n",
       "      <td>o</td>\n",
       "    </tr>\n",
       "    <tr>\n",
       "      <th>1</th>\n",
       "      <td>Браво  Рахмон !\\nБраво  ПЕШВОИ МИЛЛАТ!</td>\n",
       "      <td>o</td>\n",
       "    </tr>\n",
       "    <tr>\n",
       "      <th>2</th>\n",
       "      <td>[id434862366|Виталий], можно самому, можно чер...</td>\n",
       "      <td>o</td>\n",
       "    </tr>\n",
       "    <tr>\n",
       "      <th>3</th>\n",
       "      <td>[id72025982|Сергей], а про растаможку не может...</td>\n",
       "      <td>o</td>\n",
       "    </tr>\n",
       "    <tr>\n",
       "      <th>4</th>\n",
       "      <td>[id140939457|Вера], спасибо. Хорошо что все за...</td>\n",
       "      <td>o</td>\n",
       "    </tr>\n",
       "    <tr>\n",
       "      <th>...</th>\n",
       "      <td>...</td>\n",
       "      <td>...</td>\n",
       "    </tr>\n",
       "    <tr>\n",
       "      <th>131528</th>\n",
       "      <td>Воистину, верующие - братья. Посему примиряйте...</td>\n",
       "      <td>o</td>\n",
       "    </tr>\n",
       "    <tr>\n",
       "      <th>131529</th>\n",
       "      <td>приятного аппетита время сухура</td>\n",
       "      <td>o</td>\n",
       "    </tr>\n",
       "    <tr>\n",
       "      <th>131530</th>\n",
       "      <td>Добрый день всем. Кто подскажет, где и как про...</td>\n",
       "      <td>o</td>\n",
       "    </tr>\n",
       "    <tr>\n",
       "      <th>131531</th>\n",
       "      <td>| 23.12.2019 | На днях в Facebook появилась фо...</td>\n",
       "      <td>o</td>\n",
       "    </tr>\n",
       "    <tr>\n",
       "      <th>131532</th>\n",
       "      <td>Добрый день.\\nПодскажите пожалуйста кто знает....</td>\n",
       "      <td>o</td>\n",
       "    </tr>\n",
       "  </tbody>\n",
       "</table>\n",
       "<p>131533 rows × 2 columns</p>\n",
       "</div>"
      ],
      "text/plain": [
       "                                                     text target\n",
       "0       [id163680619|Елена], нет, без регистрации же к...      o\n",
       "1                  Браво  Рахмон !\\nБраво  ПЕШВОИ МИЛЛАТ!      o\n",
       "2       [id434862366|Виталий], можно самому, можно чер...      o\n",
       "3       [id72025982|Сергей], а про растаможку не может...      o\n",
       "4       [id140939457|Вера], спасибо. Хорошо что все за...      o\n",
       "...                                                   ...    ...\n",
       "131528  Воистину, верующие - братья. Посему примиряйте...      o\n",
       "131529                    приятного аппетита время сухура      o\n",
       "131530  Добрый день всем. Кто подскажет, где и как про...      o\n",
       "131531  | 23.12.2019 | На днях в Facebook появилась фо...      o\n",
       "131532  Добрый день.\\nПодскажите пожалуйста кто знает....      o\n",
       "\n",
       "[131533 rows x 2 columns]"
      ]
     },
     "execution_count": 7,
     "metadata": {},
     "output_type": "execute_result"
    }
   ],
   "source": [
    "df_merged\n"
   ]
  },
  {
   "cell_type": "code",
   "execution_count": 8,
   "metadata": {},
   "outputs": [],
   "source": [
    "# Tokenizing with simple regex\n",
    "\n",
    "def process_text(text):\n",
    "    words = re.findall(\"[a-яА-ЯёЁ]+\", text.lower())\n",
    "\n",
    "    return words"
   ]
  },
  {
   "cell_type": "code",
   "execution_count": 9,
   "metadata": {},
   "outputs": [
    {
     "name": "stderr",
     "output_type": "stream",
     "text": [
      "C:\\Users\\al_po\\AppData\\Local\\Temp\\ipykernel_3312\\993328078.py:1: SettingWithCopyWarning: \n",
      "A value is trying to be set on a copy of a slice from a DataFrame.\n",
      "Try using .loc[row_indexer,col_indexer] = value instead\n",
      "\n",
      "See the caveats in the documentation: https://pandas.pydata.org/pandas-docs/stable/user_guide/indexing.html#returning-a-view-versus-a-copy\n",
      "  df_merged[\"clean_text\"] = df_merged[\"text\"].apply(lambda x: process_text(x))\n"
     ]
    }
   ],
   "source": [
    "df_merged[\"clean_text\"] = df_merged[\"text\"].apply(lambda x: process_text(x))"
   ]
  },
  {
   "cell_type": "code",
   "execution_count": 10,
   "metadata": {},
   "outputs": [
    {
     "data": {
      "application/vnd.jupyter.widget-view+json": {
       "model_id": "1350d6da5cdb47f49967945d5e802c42",
       "version_major": 2,
       "version_minor": 0
      },
      "text/plain": [
       "  0%|          | 0/131533 [00:00<?, ?it/s]"
      ]
     },
     "metadata": {},
     "output_type": "display_data"
    }
   ],
   "source": [
    "# Getting word frequency duct for embs\n",
    "\n",
    "word2freq = {}\n",
    "lengths = []\n",
    "\n",
    "for text in tqdm(df_merged[\"clean_text\"]):\n",
    "    words = text\n",
    "\n",
    "    lengths.append(len(words))\n",
    "\n",
    "    for word in words:\n",
    "        if word in word2freq:\n",
    "            word2freq[word] += 1\n",
    "        else:\n",
    "            word2freq[word] = 1"
   ]
  },
  {
   "cell_type": "code",
   "execution_count": 11,
   "metadata": {},
   "outputs": [
    {
     "data": {
      "application/vnd.jupyter.widget-view+json": {
       "model_id": "d4aa22dc0c2f4570881680c1566d4e04",
       "version_major": 2,
       "version_minor": 0
      },
      "text/plain": [
       "Read word2vec:   0%|          | 0/2000000 [00:00<?, ?it/s]"
      ]
     },
     "metadata": {},
     "output_type": "display_data"
    }
   ],
   "source": [
    "# Creating lookup table\n",
    "\n",
    "word2index = {\"PAD\": 0}\n",
    "vectors = []\n",
    "\n",
    "word2vec_file = open(\"embs/cc.ru.300.vec\")\n",
    "\n",
    "n_words, embedding_dim = word2vec_file.readline().split()\n",
    "n_words, embedding_dim = int(n_words), int(embedding_dim)\n",
    "\n",
    "# Zero vector for PAD\n",
    "vectors.append(np.zeros((1, embedding_dim)))\n",
    "\n",
    "progress_bar = tqdm(desc=\"Read word2vec\", total=n_words)\n",
    "\n",
    "while True:\n",
    "    line = word2vec_file.readline().strip()\n",
    "\n",
    "    if not line:\n",
    "        break\n",
    "\n",
    "    current_parts = line.split()\n",
    "\n",
    "    current_word = \" \".join(current_parts[:-embedding_dim])\n",
    "\n",
    "    if current_word in word2freq:\n",
    "        word2index[current_word] = len(word2index)\n",
    "\n",
    "        current_vectors = current_parts[-embedding_dim:]\n",
    "        current_vectors = np.array(list(map(float, current_vectors)))\n",
    "        current_vectors = np.expand_dims(current_vectors, 0)\n",
    "\n",
    "        vectors.append(current_vectors)\n",
    "\n",
    "    progress_bar.update(1)\n",
    "\n",
    "progress_bar.close()\n",
    "\n",
    "word2vec_file.close()\n",
    "\n",
    "vectors = np.concatenate(vectors)"
   ]
  },
  {
   "cell_type": "code",
   "execution_count": 12,
   "metadata": {},
   "outputs": [
    {
     "name": "stderr",
     "output_type": "stream",
     "text": [
      "C:\\Users\\al_po\\AppData\\Local\\Temp\\ipykernel_3312\\3819259165.py:4: SettingWithCopyWarning: \n",
      "A value is trying to be set on a copy of a slice from a DataFrame.\n",
      "Try using .loc[row_indexer,col_indexer] = value instead\n",
      "\n",
      "See the caveats in the documentation: https://pandas.pydata.org/pandas-docs/stable/user_guide/indexing.html#returning-a-view-versus-a-copy\n",
      "  df_merged[\"target\"] = df_merged[\"target\"].map(cat_mapper)\n"
     ]
    }
   ],
   "source": [
    "# Mapping categorical values\n",
    "\n",
    "cat_mapper = {cat: n for n, cat in enumerate(df_merged[\"target\"].unique())}\n",
    "df_merged[\"target\"] = df_merged[\"target\"].map(cat_mapper)"
   ]
  },
  {
   "cell_type": "code",
   "execution_count": 13,
   "metadata": {},
   "outputs": [
    {
     "data": {
      "text/plain": [
       "{'o': 0, 'l': 1, 'w': 2}"
      ]
     },
     "execution_count": 13,
     "metadata": {},
     "output_type": "execute_result"
    }
   ],
   "source": [
    "cat_mapper\n"
   ]
  },
  {
   "cell_type": "code",
   "execution_count": 14,
   "metadata": {},
   "outputs": [
    {
     "data": {
      "text/plain": [
       "0    124149\n",
       "2      3911\n",
       "1      3473\n",
       "Name: target, dtype: int64"
      ]
     },
     "execution_count": 14,
     "metadata": {},
     "output_type": "execute_result"
    }
   ],
   "source": [
    "# Dataset is unbalanced\n",
    "\n",
    "df_merged[\"target\"].value_counts()"
   ]
  },
  {
   "cell_type": "code",
   "execution_count": 15,
   "metadata": {},
   "outputs": [],
   "source": [
    "# Let's use undersampling technic to rebalance data\n",
    "\n",
    "df_merged = df_merged.sort_values(by=[\"target\"], ascending=False)[:13000]"
   ]
  },
  {
   "cell_type": "code",
   "execution_count": 16,
   "metadata": {},
   "outputs": [],
   "source": [
    "# Creating torch Dataset \n",
    "\n",
    "class WordData(Dataset):\n",
    "    def __init__(\n",
    "        self,\n",
    "        x_data,\n",
    "        y_data,\n",
    "        word2index,\n",
    "        sequence_length=128,\n",
    "        pad_token=\"PAD\",\n",
    "        verbose=True,\n",
    "    ):\n",
    "        super().__init__()\n",
    "\n",
    "        self.x_data = []\n",
    "        self.y_data = y_data\n",
    "\n",
    "        self.word2index = word2index\n",
    "        self.sequence_length = sequence_length\n",
    "\n",
    "        self.pad_token = pad_token\n",
    "        self.pad_index = self.word2index[self.pad_token]\n",
    "\n",
    "        self.load(x_data, verbose=verbose)\n",
    "\n",
    "    @staticmethod\n",
    "    def process_text(text):\n",
    "        words = re.findall(\"[a-яА-ЯеЁ]+\", text.lower())\n",
    "        return words\n",
    "\n",
    "    def load(self, data, verbose=True):\n",
    "        data_iterator = tqdm(data, desc=\"Loading data\", disable=not verbose)\n",
    "\n",
    "        for text in data_iterator:\n",
    "            words = self.process_text(text)\n",
    "\n",
    "            indexed_words = self.indexing(words)\n",
    "\n",
    "            self.x_data.append(indexed_words)\n",
    "\n",
    "    def indexing(self, tokenized_text):\n",
    "        return [\n",
    "            self.word2index[word] for word in tokenized_text if word in self.word2index\n",
    "        ]\n",
    "\n",
    "    def padding(self, sequence):\n",
    "        if len(sequence) < self.sequence_length:\n",
    "            add_pad = self.sequence_length - len(sequence)\n",
    "            return sequence + [self.pad_index] * add_pad\n",
    "        else:\n",
    "            return sequence[: self.sequence_length]\n",
    "\n",
    "    def __len__(self):\n",
    "        return len(self.x_data)\n",
    "\n",
    "    def __getitem__(self, idx):\n",
    "        x = self.x_data[idx]\n",
    "        x = self.padding(x)\n",
    "        x = torch.Tensor(x).long()\n",
    "\n",
    "        y = self.y_data[idx]\n",
    "\n",
    "        return x, y"
   ]
  },
  {
   "cell_type": "code",
   "execution_count": 17,
   "metadata": {},
   "outputs": [
    {
     "data": {
      "application/vnd.jupyter.widget-view+json": {
       "model_id": "08085ec29f0f47348663386753e27062",
       "version_major": 2,
       "version_minor": 0
      },
      "text/plain": [
       "Loading data:   0%|          | 0/10400 [00:00<?, ?it/s]"
      ]
     },
     "metadata": {},
     "output_type": "display_data"
    },
    {
     "data": {
      "application/vnd.jupyter.widget-view+json": {
       "model_id": "b80fb6c288624b13ad6e1a99e1025b56",
       "version_major": 2,
       "version_minor": 0
      },
      "text/plain": [
       "Loading data:   0%|          | 0/2600 [00:00<?, ?it/s]"
      ]
     },
     "metadata": {},
     "output_type": "display_data"
    }
   ],
   "source": [
    "# Splitting data into test and train\n",
    "\n",
    "x_train, x_val, y_train, y_val = train_test_split(\n",
    "    df_merged.text, df_merged.target, test_size=0.2\n",
    ")\n",
    "\n",
    "train_dataset = WordData(list(x_train), list(y_train), word2index)\n",
    "train_loader = DataLoader(train_dataset, batch_size=64)\n",
    "\n",
    "validation_dataset = WordData(list(x_val), list(y_val), word2index)\n",
    "validation_loader = DataLoader(validation_dataset, batch_size=64)"
   ]
  },
  {
   "cell_type": "code",
   "execution_count": 18,
   "metadata": {},
   "outputs": [],
   "source": [
    "# We will combine RNN, CNN and attention"
   ]
  },
  {
   "cell_type": "code",
   "execution_count": 19,
   "metadata": {},
   "outputs": [],
   "source": [
    "class model_with_att(torch.nn.Module):\n",
    "    def __init__(self, matrix_w, n, embedding_dim=300):\n",
    "        super().__init__()\n",
    "\n",
    "        self.n = n\n",
    "        self.embedding_dim = embedding_dim\n",
    "        self.emb_layer = torch.nn.Embedding.from_pretrained(\n",
    "            torch.Tensor(matrix_w)\n",
    "        )  # 64 128 300\n",
    "\n",
    "        self.LSTM = torch.nn.LSTM(\n",
    "            300, 512, batch_first=True, num_layers=2, dropout=0.2, bidirectional=True\n",
    "        )\n",
    "        self.q_proj = torch.nn.Linear(in_features=512 * 2, out_features=512, bias=True)\n",
    "        self.k_proj = torch.nn.Linear(in_features=512 * 2, out_features=512, bias=True)\n",
    "        self.v_proj = torch.nn.Linear(in_features=512 * 2, out_features=512, bias=True)\n",
    "\n",
    "        self.att_soft = torch.nn.Softmax(dim=2)\n",
    "\n",
    "        self.cnn_3gr = torch.nn.Conv1d(in_channels=512, out_channels=64, kernel_size=3)\n",
    "        self.cnn_4gr = torch.nn.Conv1d(in_channels=512, out_channels=64, kernel_size=4)\n",
    "        self.cnn_5gr = torch.nn.Conv1d(in_channels=512, out_channels=64, kernel_size=5)\n",
    "\n",
    "        self.linear_1 = torch.nn.Linear(\n",
    "            in_features=64 * 3, out_features=1024, bias=True\n",
    "        )\n",
    "        self.relu = torch.nn.ReLU()\n",
    "        self.linear_2 = torch.nn.Linear(1024, out_features=n, bias=True)\n",
    "\n",
    "    def forward(self, x):\n",
    "        x_emb = self.emb_layer(x)\n",
    "        x, _ = self.LSTM(x_emb)\n",
    "\n",
    "        x_q = self.q_proj(x)\n",
    "        x_k = self.k_proj(x)\n",
    "        x_v = self.v_proj(x)\n",
    "\n",
    "        att_scores = torch.bmm(x_q, x_k.transpose(2, 1)) / np.sqrt(embedding_dim)\n",
    "        att_dist = self.att_soft(att_scores)\n",
    "        attention_vectors = torch.bmm(att_dist, x_v)\n",
    "\n",
    "        x_att = attention_vectors.transpose(2, 1)\n",
    "\n",
    "        x_cnn3 = self.cnn_3gr(x_att)\n",
    "        x_cnn4 = self.cnn_4gr(x_att)\n",
    "        x_cnn5 = self.cnn_5gr(x_att)\n",
    "\n",
    "        frst, _ = x_cnn3.max(\n",
    "            dim=-1,\n",
    "        )\n",
    "        sc, _ = x_cnn4.max(\n",
    "            dim=-1,\n",
    "        )\n",
    "        thr, _ = x_cnn5.max(\n",
    "            dim=-1,\n",
    "        )\n",
    "\n",
    "        x_cat = torch.cat((frst, sc, thr), dim=-1)\n",
    "\n",
    "        x = self.linear_1(x_cat)\n",
    "        x = self.relu(x)\n",
    "        x = self.linear_2(x)\n",
    "\n",
    "        return x"
   ]
  },
  {
   "cell_type": "code",
   "execution_count": 20,
   "metadata": {},
   "outputs": [],
   "source": [
    "# model_with_att(\n",
    "#   (emb_layer): Embedding(95936, 300)\n",
    "#   (LSTM): LSTM(300, 512, num_layers=2, batch_first=True, dropout=0.2, bidirectional=True)\n",
    "#   (q_proj): Linear(in_features=1024, out_features=512, bias=True)\n",
    "#   (k_proj): Linear(in_features=1024, out_features=512, bias=True)\n",
    "#   (v_proj): Linear(in_features=1024, out_features=512, bias=True)\n",
    "#   (att_soft): Softmax(dim=2)\n",
    "#   (cnn_3gr): Conv1d(512, 64, kernel_size=(3,), stride=(1,))\n",
    "#   (cnn_4gr): Conv1d(512, 64, kernel_size=(4,), stride=(1,))\n",
    "#   (cnn_5gr): Conv1d(512, 64, kernel_size=(5,), stride=(1,))\n",
    "#   (linear_1): Linear(in_features=192, out_features=1024, bias=True)\n",
    "#   (relu): ReLU()\n",
    "#   (linear_2): Linear(in_features=1024, out_features=3, bias=True)\n",
    "# )"
   ]
  },
  {
   "cell_type": "code",
   "execution_count": 21,
   "metadata": {},
   "outputs": [
    {
     "data": {
      "text/plain": [
       "device(type='cuda')"
      ]
     },
     "execution_count": 21,
     "metadata": {},
     "output_type": "execute_result"
    }
   ],
   "source": [
    "device = torch.device(\"cuda\") if torch.cuda.is_available() else torch.device(\"cpu\")\n",
    "device"
   ]
  },
  {
   "cell_type": "code",
   "execution_count": 22,
   "metadata": {},
   "outputs": [],
   "source": [
    "# Defining train and val funcs\n",
    "\n",
    "def train_loop(train_loader, model, optimizer, criterion):\n",
    "    model.train()\n",
    "\n",
    "    train_losses = []\n",
    "\n",
    "    for x, y in tqdm(train_loader):\n",
    "        x = x.to(device)\n",
    "        y = y.to(device)\n",
    "\n",
    "        optimizer.zero_grad()\n",
    "\n",
    "        pred = model(x)\n",
    "        loss = criterion(pred, y)\n",
    "\n",
    "        loss.backward()\n",
    "        optimizer.step()\n",
    "\n",
    "        train_losses.append(loss.item())\n",
    "\n",
    "    return train_losses\n",
    "\n",
    "\n",
    "def val_loop(val_loader, model, optimizer, criterion):\n",
    "    model.eval()\n",
    "\n",
    "    test_targets = []\n",
    "    test_pred_class = []\n",
    "    test_losses = []\n",
    "\n",
    "    with torch.inference_mode():\n",
    "        for x, y in tqdm(val_loader):\n",
    "            x = x.to(device)\n",
    "            pred = model(x)\n",
    "            pred = pred.cpu()\n",
    "\n",
    "            test_targets.append(y.numpy())\n",
    "            test_pred_class.append(np.argmax(pred, axis=1))\n",
    "\n",
    "            loss = criterion(pred, y)\n",
    "\n",
    "            test_losses.append(loss.item())\n",
    "\n",
    "    return test_losses, test_targets, test_pred_class\n",
    "\n",
    "\n",
    "def train(train_loader, val_loader, model, optimizer, criterion, epochs):\n",
    "    train_losses = []\n",
    "    test_losses = []\n",
    "    f1_scores = []\n",
    "\n",
    "    for epoch in range(epochs):\n",
    "        train_loss = train_loop(train_loader, model, optimizer, criterion)\n",
    "        test_loss, test_targets, test_pred_class = val_loop(\n",
    "            val_loader, model, optimizer, criterion\n",
    "        )\n",
    "\n",
    "        test_targets = np.concatenate(test_targets).squeeze()\n",
    "        test_pred_class = np.concatenate(test_pred_class).squeeze()\n",
    "\n",
    "        f1 = f1_score(test_targets, test_pred_class, average=\"macro\")\n",
    "\n",
    "        train_losses.append(np.mean(train_loss))\n",
    "        test_losses.append(np.mean(test_loss))\n",
    "        f1_scores.append(f1)\n",
    "\n",
    "        clear_output(True)\n",
    "        fig, ax = plt.subplots(nrows=1, ncols=2, figsize=(10, 5))\n",
    "        ax[0].plot(train_losses, label=\"train loss\")\n",
    "        ax[0].plot(test_losses, label=\"val loss\")\n",
    "        ax[0].set_xlabel(\"Epoch\")\n",
    "        ax[0].set_title(\"Losses\")\n",
    "        ax[1].plot(f1_scores, label=\"F1 test\")\n",
    "        ax[1].set_xlabel(\"Epoch\")\n",
    "        ax[1].set_title(\"F1 test\")\n",
    "        plt.legend()\n",
    "        plt.show()\n",
    "\n",
    "        print(f\"Epoch {epoch + 1}\")\n",
    "        print(\n",
    "            f\"Losses: train -- {np.mean(train_losses)}, val -- {np.mean(test_losses)}\"\n",
    "        )\n",
    "        print(f\"F1 test: {f1}\")\n",
    "\n",
    "    return test_targets, test_pred_class"
   ]
  },
  {
   "cell_type": "code",
   "execution_count": 23,
   "metadata": {},
   "outputs": [],
   "source": [
    "model = model_with_att(vectors, 3)\n"
   ]
  },
  {
   "cell_type": "code",
   "execution_count": 24,
   "metadata": {},
   "outputs": [
    {
     "data": {
      "image/png": "[encoded data removed]",
      "text/plain": [
       "<Figure size 1000x500 with 2 Axes>"
      ]
     },
     "metadata": {},
     "output_type": "display_data"
    },
    {
     "name": "stdout",
     "output_type": "stream",
     "text": [
      "Epoch 5\n",
      "Losses: train -- 0.5212719229101404, val -- 0.5038791150581546\n",
      "F1 test: 0.8230381290703335\n"
     ]
    }
   ],
   "source": [
    "# Starting training\n",
    "\n",
    "criterion = torch.nn.CrossEntropyLoss()\n",
    "optimizer = torch.optim.Adam(params=model.parameters())\n",
    "epochs = 5\n",
    "\n",
    "model = model.to(device)\n",
    "\n",
    "test_targets, test_pred_class = train(\n",
    "    train_loader, validation_loader, model, optimizer, criterion, epochs\n",
    ")"
   ]
  },
  {
   "cell_type": "code",
   "execution_count": null,
   "metadata": {},
   "outputs": [],
   "source": [
    "# We have got decent f1 with only 5 epochs with a bit of overfitting\n"
   ]
  },
  {
   "cell_type": "code",
   "execution_count": 25,
   "metadata": {},
   "outputs": [
    {
     "name": "stdout",
     "output_type": "stream",
     "text": [
      "              precision    recall  f1-score   support\n",
      "\n",
      "           0       0.81      0.86      0.84      1127\n",
      "           1       0.79      0.84      0.81       699\n",
      "           2       0.89      0.76      0.82       774\n",
      "\n",
      "    accuracy                           0.83      2600\n",
      "   macro avg       0.83      0.82      0.82      2600\n",
      "weighted avg       0.83      0.83      0.83      2600\n",
      "\n"
     ]
    }
   ],
   "source": [
    "class_rep = classification_report(test_targets, test_pred_class)\n",
    "print(class_rep)\n"
   ]
  },
  {
   "cell_type": "code",
   "execution_count": null,
   "metadata": {},
   "outputs": [],
   "source": [
    "# Let's compare with the best and the largest BERT model "
   ]
  },
  {
   "cell_type": "code",
   "execution_count": 26,
   "metadata": {},
   "outputs": [],
   "source": [
    "from transformers import (\n",
    "    BertForSequenceClassification,\n",
    "    BertTokenizer,\n",
    "    TrainingArguments,\n",
    "    Trainer,\n",
    ")"
   ]
  },
  {
   "cell_type": "code",
   "execution_count": 27,
   "metadata": {},
   "outputs": [],
   "source": [
    "test_model = BertForSequenceClassification.from_pretrained(\"models/fine_tune_v1\").to(\n",
    "    device\n",
    ")\n",
    "tokenizer = BertTokenizer.from_pretrained(\"bert-base-uncased\")"
   ]
  },
  {
   "cell_type": "code",
   "execution_count": 28,
   "metadata": {},
   "outputs": [],
   "source": [
    "test_preds = []\n",
    "test_labels = []\n"
   ]
  },
  {
   "cell_type": "code",
   "execution_count": 29,
   "metadata": {},
   "outputs": [],
   "source": [
    "for x, y in zip(x_val, y_val):\n",
    "    inputs = tokenizer(\n",
    "        x, padding=\"max_length\", truncation=True, return_tensors=\"pt\"\n",
    "    ).to(device)\n",
    "    logits = test_model(**inputs).logits\n",
    "    ouputs = logits.argmax().item()\n",
    "    test_preds.append(ouputs)\n",
    "    test_labels.append(y)"
   ]
  },
  {
   "cell_type": "code",
   "execution_count": 30,
   "metadata": {},
   "outputs": [
    {
     "name": "stdout",
     "output_type": "stream",
     "text": [
      "              precision    recall  f1-score   support\n",
      "\n",
      "           0       0.92      0.87      0.89      1127\n",
      "           1       0.86      0.90      0.88       699\n",
      "           2       0.87      0.90      0.88       774\n",
      "\n",
      "    accuracy                           0.88      2600\n",
      "   macro avg       0.88      0.89      0.88      2600\n",
      "weighted avg       0.89      0.88      0.88      2600\n",
      "\n"
     ]
    }
   ],
   "source": [
    "ft_class_rep = classification_report(test_labels, test_preds)\n",
    "print(ft_class_rep)\n"
   ]
  },
  {
   "cell_type": "code",
   "execution_count": null,
   "metadata": {},
   "outputs": [],
   "source": [
    "# We got a slightly less good result, but a much lighter model"
   ]
  }
 ],
 "metadata": {
  "kernelspec": {
   "display_name": "Python 3",
   "language": "python",
   "name": "python3"
  },
  "language_info": {
   "codemirror_mode": {
    "name": "ipython",
    "version": 3
   },
   "file_extension": ".py",
   "mimetype": "text/x-python",
   "name": "python",
   "nbconvert_exporter": "python",
   "pygments_lexer": "ipython3",
   "version": "3.8.10"
  },
  "orig_nbformat": 4,
  "vscode": {
   "interpreter": {
    "hash": "b6101cc0f22259a351decd035db171a8dc594425630fb85f7f5ed97194d94dd7"
   }
  }
 },
 "nbformat": 4,
 "nbformat_minor": 2
}
