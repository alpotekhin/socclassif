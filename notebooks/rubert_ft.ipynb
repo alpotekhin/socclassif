{
 "cells": [
  {
   "cell_type": "code",
   "execution_count": 1,
   "metadata": {},
   "outputs": [],
   "source": [
    "import torch\n",
    "import numpy as np\n",
    "import evaluate\n",
    "import gc\n",
    "\n",
    "from datasets import load_dataset\n",
    "from transformers import (\n",
    "    AutoTokenizer,\n",
    "    AutoModelForSequenceClassification,\n",
    "    TrainingArguments,\n",
    "    Trainer,\n",
    ")"
   ]
  },
  {
   "cell_type": "code",
   "execution_count": 2,
   "metadata": {},
   "outputs": [],
   "source": [
    "# Setting seed for reproducibility and checking whether cuda is on\n",
    "\n",
    "torch.manual_seed(16)\n",
    "\n",
    "device = torch.device(\"cuda\" if torch.cuda.is_available() else \"cpu\")"
   ]
  },
  {
   "cell_type": "code",
   "execution_count": 3,
   "metadata": {},
   "outputs": [
    {
     "name": "stderr",
     "output_type": "stream",
     "text": [
      "Some weights of the model checkpoint at cointegrated/rubert-tiny2 were not used when initializing BertForSequenceClassification: ['cls.predictions.decoder.weight', 'cls.predictions.bias', 'cls.predictions.decoder.bias', 'cls.seq_relationship.weight', 'cls.predictions.transform.dense.bias', 'cls.predictions.transform.LayerNorm.bias', 'cls.predictions.transform.LayerNorm.weight', 'cls.seq_relationship.bias', 'cls.predictions.transform.dense.weight']\n",
      "- This IS expected if you are initializing BertForSequenceClassification from the checkpoint of a model trained on another task or with another architecture (e.g. initializing a BertForSequenceClassification model from a BertForPreTraining model).\n",
      "- This IS NOT expected if you are initializing BertForSequenceClassification from the checkpoint of a model that you expect to be exactly identical (initializing a BertForSequenceClassification model from a BertForSequenceClassification model).\n",
      "Some weights of BertForSequenceClassification were not initialized from the model checkpoint at cointegrated/rubert-tiny2 and are newly initialized: ['classifier.weight', 'classifier.bias']\n",
      "You should probably TRAIN this model on a down-stream task to be able to use it for predictions and inference.\n"
     ]
    }
   ],
   "source": [
    "# We will use a smaller version of ruBert to better understand Russian semantics\n",
    "\n",
    "tokenizer = AutoTokenizer.from_pretrained(\"cointegrated/rubert-tiny2\")\n",
    "model = AutoModelForSequenceClassification.from_pretrained(\n",
    "    \"cointegrated/rubert-tiny2\", num_labels=3\n",
    ")"
   ]
  },
  {
   "cell_type": "code",
   "execution_count": 4,
   "metadata": {},
   "outputs": [
    {
     "name": "stderr",
     "output_type": "stream",
     "text": [
      "Using custom data configuration default-8049d2a1ed22d6e9\n",
      "Found cached dataset csv (C:/Users/al_po/.cache/huggingface/datasets/csv/default-8049d2a1ed22d6e9/0.0.0/6b34fb8fcf56f7c8ba51dc895bfa2bfbe43546f190a60fcf74bb5e8afdcc2317)\n"
     ]
    },
    {
     "data": {
      "application/vnd.jupyter.widget-view+json": {
       "model_id": "f1dc76af6283484a86bfda06339e2ac4",
       "version_major": 2,
       "version_minor": 0
      },
      "text/plain": [
       "  0%|          | 0/1 [00:00<?, ?it/s]"
      ]
     },
     "metadata": {},
     "output_type": "display_data"
    }
   ],
   "source": [
    "# Loading dataset and fixing false 'train_test_split'\n",
    "\n",
    "dataset = load_dataset(\"csv\", data_files=\"data/text-target.csv\")\n",
    "dataset = dataset[\"train\"]\n",
    "dataset = dataset.rename_column(\n",
    "    \"target\", \"labels\"\n",
    ")  # for compatibility with transformers trainer"
   ]
  },
  {
   "cell_type": "code",
   "execution_count": 5,
   "metadata": {},
   "outputs": [],
   "source": [
    "# Defining preprocessing for text to get embedding lookup table and attention\n",
    "\n",
    "\n",
    "def preprocess_function(examples):\n",
    "    return tokenizer(\n",
    "        examples[\"text\"], padding=\"max_length\", truncation=True, return_tensors=\"pt\"\n",
    "    )"
   ]
  },
  {
   "cell_type": "code",
   "execution_count": 6,
   "metadata": {},
   "outputs": [
    {
     "name": "stderr",
     "output_type": "stream",
     "text": [
      "Loading cached processed dataset at C:/Users/al_po/.cache/huggingface/datasets/csv/default-8049d2a1ed22d6e9/0.0.0/6b34fb8fcf56f7c8ba51dc895bfa2bfbe43546f190a60fcf74bb5e8afdcc2317\\cache-b27e36eba33aa001.arrow\n"
     ]
    }
   ],
   "source": [
    "dataset = dataset.map(preprocess_function, batched=True)  # processing dataset"
   ]
  },
  {
   "cell_type": "code",
   "execution_count": 7,
   "metadata": {},
   "outputs": [],
   "source": [
    "dataset = dataset.train_test_split()\n"
   ]
  },
  {
   "cell_type": "code",
   "execution_count": 8,
   "metadata": {},
   "outputs": [],
   "source": [
    "# Leaving only the necessary for training columns\n",
    "\n",
    "train_dataset = dataset[\"train\"].shuffle(seed=16).remove_columns([\"text\"])\n",
    "test_dataset = dataset[\"test\"].remove_columns([\"text\"])"
   ]
  },
  {
   "cell_type": "code",
   "execution_count": 9,
   "metadata": {},
   "outputs": [],
   "source": [
    "# We will max the f1-macro\n",
    "\n",
    "metric = evaluate.load(\"f1\")"
   ]
  },
  {
   "cell_type": "code",
   "execution_count": 10,
   "metadata": {},
   "outputs": [],
   "source": [
    "# Function for trainer evaluation\n",
    "\n",
    "\n",
    "def compute_metrics(eval_pred):\n",
    "    logits, labels = eval_pred\n",
    "    predictions = np.argmax(logits, axis=-1)\n",
    "    return metric.compute(predictions=predictions, references=labels, average=\"macro\")"
   ]
  },
  {
   "cell_type": "code",
   "execution_count": 13,
   "metadata": {},
   "outputs": [
    {
     "name": "stderr",
     "output_type": "stream",
     "text": [
      "PyTorch: setting up devices\n",
      "The default value for the training argument `--report_to` will change in v5 (from all installed integrations to none). In v5, you will need to use `--report_to all` to get the same behavior as now. You should start updating your code and make this info disappear :-).\n"
     ]
    }
   ],
   "source": [
    "# Configuring Trainer\n",
    "# Check 'rubert_hp_search' for hyperparameter search example\n",
    "\n",
    "training_args = TrainingArguments(\n",
    "    output_dir=\"models/rubert_fine_tune/\",\n",
    "    evaluation_strategy=\"epoch\",\n",
    "    learning_rate=1.7e-5,\n",
    "    num_train_epochs=4,\n",
    "    per_device_train_batch_size=4,\n",
    "    per_device_eval_batch_size=4,\n",
    "    weight_decay=0.24,\n",
    ")\n",
    "\n",
    "trainer = Trainer(\n",
    "    model=model,\n",
    "    args=training_args,\n",
    "    train_dataset=train_dataset,\n",
    "    eval_dataset=test_dataset,\n",
    "    compute_metrics=compute_metrics,\n",
    ")"
   ]
  },
  {
   "cell_type": "code",
   "execution_count": 17,
   "metadata": {},
   "outputs": [
    {
     "data": {
      "text/plain": [
       "59"
      ]
     },
     "execution_count": 17,
     "metadata": {},
     "output_type": "execute_result"
    }
   ],
   "source": [
    "# Cleaning cuda cache before training\n",
    "\n",
    "torch.cuda.empty_cache()\n",
    "gc.collect()"
   ]
  },
  {
   "cell_type": "code",
   "execution_count": 15,
   "metadata": {},
   "outputs": [
    {
     "name": "stderr",
     "output_type": "stream",
     "text": [
      "c:\\Users\\al_po\\AppData\\Local\\Programs\\Python\\Python38\\lib\\site-packages\\transformers\\optimization.py:306: FutureWarning: This implementation of AdamW is deprecated and will be removed in a future version. Use the PyTorch implementation torch.optim.AdamW instead, or set `no_deprecation_warning=True` to disable this warning\n",
      "  warnings.warn(\n",
      "***** Running training *****\n",
      "  Num examples = 9750\n",
      "  Num Epochs = 4\n",
      "  Instantaneous batch size per device = 4\n",
      "  Total train batch size (w. parallel, distributed & accumulation) = 4\n",
      "  Gradient Accumulation steps = 1\n",
      "  Total optimization steps = 9752\n",
      "  Number of trainable parameters = 29194707\n"
     ]
    },
    {
     "data": {
      "application/vnd.jupyter.widget-view+json": {
       "model_id": "ffb44f15f500494b977e6185b03abddc",
       "version_major": 2,
       "version_minor": 0
      },
      "text/plain": [
       "  0%|          | 0/9752 [00:00<?, ?it/s]"
      ]
     },
     "metadata": {},
     "output_type": "display_data"
    },
    {
     "name": "stderr",
     "output_type": "stream",
     "text": [
      "Saving model checkpoint to models/rubert_fine_tune/checkpoint-500\n",
      "Configuration saved in models/rubert_fine_tune/checkpoint-500\\config.json\n",
      "Model weights saved in models/rubert_fine_tune/checkpoint-500\\pytorch_model.bin\n"
     ]
    },
    {
     "name": "stdout",
     "output_type": "stream",
     "text": [
      "{'loss': 0.83, 'learning_rate': 1.6128383921246925e-05, 'epoch': 0.21}\n"
     ]
    },
    {
     "name": "stderr",
     "output_type": "stream",
     "text": [
      "Saving model checkpoint to models/rubert_fine_tune/checkpoint-1000\n",
      "Configuration saved in models/rubert_fine_tune/checkpoint-1000\\config.json\n",
      "Model weights saved in models/rubert_fine_tune/checkpoint-1000\\pytorch_model.bin\n"
     ]
    },
    {
     "name": "stdout",
     "output_type": "stream",
     "text": [
      "{'loss': 0.5514, 'learning_rate': 1.5256767842493846e-05, 'epoch': 0.41}\n"
     ]
    },
    {
     "name": "stderr",
     "output_type": "stream",
     "text": [
      "Saving model checkpoint to models/rubert_fine_tune/checkpoint-1500\n",
      "Configuration saved in models/rubert_fine_tune/checkpoint-1500\\config.json\n",
      "Model weights saved in models/rubert_fine_tune/checkpoint-1500\\pytorch_model.bin\n"
     ]
    },
    {
     "name": "stdout",
     "output_type": "stream",
     "text": [
      "{'loss': 0.5127, 'learning_rate': 1.4385151763740772e-05, 'epoch': 0.62}\n"
     ]
    },
    {
     "name": "stderr",
     "output_type": "stream",
     "text": [
      "Saving model checkpoint to models/rubert_fine_tune/checkpoint-2000\n",
      "Configuration saved in models/rubert_fine_tune/checkpoint-2000\\config.json\n",
      "Model weights saved in models/rubert_fine_tune/checkpoint-2000\\pytorch_model.bin\n"
     ]
    },
    {
     "name": "stdout",
     "output_type": "stream",
     "text": [
      "{'loss': 0.5551, 'learning_rate': 1.3513535684987695e-05, 'epoch': 0.82}\n"
     ]
    },
    {
     "name": "stderr",
     "output_type": "stream",
     "text": [
      "***** Running Evaluation *****\n",
      "  Num examples = 3250\n",
      "  Batch size = 4\n"
     ]
    },
    {
     "data": {
      "application/vnd.jupyter.widget-view+json": {
       "model_id": "2fb6a93a166d4244acc9a36aacbb44fb",
       "version_major": 2,
       "version_minor": 0
      },
      "text/plain": [
       "  0%|          | 0/813 [00:00<?, ?it/s]"
      ]
     },
     "metadata": {},
     "output_type": "display_data"
    },
    {
     "name": "stdout",
     "output_type": "stream",
     "text": [
      "{'eval_loss': 0.5537195205688477, 'eval_f1': 0.8467055484151939, 'eval_runtime': 56.8316, 'eval_samples_per_second': 57.186, 'eval_steps_per_second': 14.305, 'epoch': 1.0}\n"
     ]
    },
    {
     "name": "stderr",
     "output_type": "stream",
     "text": [
      "Saving model checkpoint to models/rubert_fine_tune/checkpoint-2500\n",
      "Configuration saved in models/rubert_fine_tune/checkpoint-2500\\config.json\n",
      "Model weights saved in models/rubert_fine_tune/checkpoint-2500\\pytorch_model.bin\n"
     ]
    },
    {
     "name": "stdout",
     "output_type": "stream",
     "text": [
      "{'loss': 0.5791, 'learning_rate': 1.2641919606234618e-05, 'epoch': 1.03}\n"
     ]
    },
    {
     "name": "stderr",
     "output_type": "stream",
     "text": [
      "Saving model checkpoint to models/rubert_fine_tune/checkpoint-3000\n",
      "Configuration saved in models/rubert_fine_tune/checkpoint-3000\\config.json\n",
      "Model weights saved in models/rubert_fine_tune/checkpoint-3000\\pytorch_model.bin\n"
     ]
    },
    {
     "name": "stdout",
     "output_type": "stream",
     "text": [
      "{'loss': 0.5432, 'learning_rate': 1.1770303527481541e-05, 'epoch': 1.23}\n"
     ]
    },
    {
     "name": "stderr",
     "output_type": "stream",
     "text": [
      "Saving model checkpoint to models/rubert_fine_tune/checkpoint-3500\n",
      "Configuration saved in models/rubert_fine_tune/checkpoint-3500\\config.json\n",
      "Model weights saved in models/rubert_fine_tune/checkpoint-3500\\pytorch_model.bin\n"
     ]
    },
    {
     "name": "stdout",
     "output_type": "stream",
     "text": [
      "{'loss': 0.503, 'learning_rate': 1.0898687448728466e-05, 'epoch': 1.44}\n"
     ]
    },
    {
     "name": "stderr",
     "output_type": "stream",
     "text": [
      "Saving model checkpoint to models/rubert_fine_tune/checkpoint-4000\n",
      "Configuration saved in models/rubert_fine_tune/checkpoint-4000\\config.json\n",
      "Model weights saved in models/rubert_fine_tune/checkpoint-4000\\pytorch_model.bin\n"
     ]
    },
    {
     "name": "stdout",
     "output_type": "stream",
     "text": [
      "{'loss': 0.5095, 'learning_rate': 1.002707136997539e-05, 'epoch': 1.64}\n"
     ]
    },
    {
     "name": "stderr",
     "output_type": "stream",
     "text": [
      "Saving model checkpoint to models/rubert_fine_tune/checkpoint-4500\n",
      "Configuration saved in models/rubert_fine_tune/checkpoint-4500\\config.json\n",
      "Model weights saved in models/rubert_fine_tune/checkpoint-4500\\pytorch_model.bin\n"
     ]
    },
    {
     "name": "stdout",
     "output_type": "stream",
     "text": [
      "{'loss': 0.4917, 'learning_rate': 9.155455291222314e-06, 'epoch': 1.85}\n"
     ]
    },
    {
     "name": "stderr",
     "output_type": "stream",
     "text": [
      "***** Running Evaluation *****\n",
      "  Num examples = 3250\n",
      "  Batch size = 4\n"
     ]
    },
    {
     "data": {
      "application/vnd.jupyter.widget-view+json": {
       "model_id": "17d6b7096d384d0cb8de1c9fcb0574ce",
       "version_major": 2,
       "version_minor": 0
      },
      "text/plain": [
       "  0%|          | 0/813 [00:00<?, ?it/s]"
      ]
     },
     "metadata": {},
     "output_type": "display_data"
    },
    {
     "name": "stdout",
     "output_type": "stream",
     "text": [
      "{'eval_loss': 0.5713302493095398, 'eval_f1': 0.850105980490263, 'eval_runtime': 126.3777, 'eval_samples_per_second': 25.717, 'eval_steps_per_second': 6.433, 'epoch': 2.0}\n"
     ]
    },
    {
     "name": "stderr",
     "output_type": "stream",
     "text": [
      "Saving model checkpoint to models/rubert_fine_tune/checkpoint-5000\n",
      "Configuration saved in models/rubert_fine_tune/checkpoint-5000\\config.json\n",
      "Model weights saved in models/rubert_fine_tune/checkpoint-5000\\pytorch_model.bin\n"
     ]
    },
    {
     "name": "stdout",
     "output_type": "stream",
     "text": [
      "{'loss': 0.5091, 'learning_rate': 8.283839212469236e-06, 'epoch': 2.05}\n"
     ]
    },
    {
     "name": "stderr",
     "output_type": "stream",
     "text": [
      "Saving model checkpoint to models/rubert_fine_tune/checkpoint-5500\n",
      "Configuration saved in models/rubert_fine_tune/checkpoint-5500\\config.json\n",
      "Model weights saved in models/rubert_fine_tune/checkpoint-5500\\pytorch_model.bin\n"
     ]
    },
    {
     "name": "stdout",
     "output_type": "stream",
     "text": [
      "{'loss': 0.4197, 'learning_rate': 7.41222313371616e-06, 'epoch': 2.26}\n"
     ]
    },
    {
     "name": "stderr",
     "output_type": "stream",
     "text": [
      "Saving model checkpoint to models/rubert_fine_tune/checkpoint-6000\n",
      "Configuration saved in models/rubert_fine_tune/checkpoint-6000\\config.json\n",
      "Model weights saved in models/rubert_fine_tune/checkpoint-6000\\pytorch_model.bin\n"
     ]
    },
    {
     "name": "stdout",
     "output_type": "stream",
     "text": [
      "{'loss': 0.5004, 'learning_rate': 6.540607054963085e-06, 'epoch': 2.46}\n"
     ]
    },
    {
     "name": "stderr",
     "output_type": "stream",
     "text": [
      "Saving model checkpoint to models/rubert_fine_tune/checkpoint-6500\n",
      "Configuration saved in models/rubert_fine_tune/checkpoint-6500\\config.json\n",
      "Model weights saved in models/rubert_fine_tune/checkpoint-6500\\pytorch_model.bin\n"
     ]
    },
    {
     "name": "stdout",
     "output_type": "stream",
     "text": [
      "{'loss': 0.463, 'learning_rate': 5.668990976210008e-06, 'epoch': 2.67}\n"
     ]
    },
    {
     "name": "stderr",
     "output_type": "stream",
     "text": [
      "Saving model checkpoint to models/rubert_fine_tune/checkpoint-7000\n",
      "Configuration saved in models/rubert_fine_tune/checkpoint-7000\\config.json\n",
      "Model weights saved in models/rubert_fine_tune/checkpoint-7000\\pytorch_model.bin\n"
     ]
    },
    {
     "name": "stdout",
     "output_type": "stream",
     "text": [
      "{'loss': 0.4476, 'learning_rate': 4.797374897456932e-06, 'epoch': 2.87}\n"
     ]
    },
    {
     "name": "stderr",
     "output_type": "stream",
     "text": [
      "***** Running Evaluation *****\n",
      "  Num examples = 3250\n",
      "  Batch size = 4\n"
     ]
    },
    {
     "data": {
      "application/vnd.jupyter.widget-view+json": {
       "model_id": "3c6d33a8ad9441a6a87d762bfef04481",
       "version_major": 2,
       "version_minor": 0
      },
      "text/plain": [
       "  0%|          | 0/813 [00:00<?, ?it/s]"
      ]
     },
     "metadata": {},
     "output_type": "display_data"
    },
    {
     "name": "stdout",
     "output_type": "stream",
     "text": [
      "{'eval_loss': 0.6077721118927002, 'eval_f1': 0.8503094205766969, 'eval_runtime': 57.6801, 'eval_samples_per_second': 56.345, 'eval_steps_per_second': 14.095, 'epoch': 3.0}\n"
     ]
    },
    {
     "name": "stderr",
     "output_type": "stream",
     "text": [
      "Saving model checkpoint to models/rubert_fine_tune/checkpoint-7500\n",
      "Configuration saved in models/rubert_fine_tune/checkpoint-7500\\config.json\n",
      "Model weights saved in models/rubert_fine_tune/checkpoint-7500\\pytorch_model.bin\n"
     ]
    },
    {
     "name": "stdout",
     "output_type": "stream",
     "text": [
      "{'loss': 0.4466, 'learning_rate': 3.925758818703856e-06, 'epoch': 3.08}\n"
     ]
    },
    {
     "name": "stderr",
     "output_type": "stream",
     "text": [
      "Saving model checkpoint to models/rubert_fine_tune/checkpoint-8000\n",
      "Configuration saved in models/rubert_fine_tune/checkpoint-8000\\config.json\n",
      "Model weights saved in models/rubert_fine_tune/checkpoint-8000\\pytorch_model.bin\n"
     ]
    },
    {
     "name": "stdout",
     "output_type": "stream",
     "text": [
      "{'loss': 0.4334, 'learning_rate': 3.0541427399507795e-06, 'epoch': 3.28}\n"
     ]
    },
    {
     "name": "stderr",
     "output_type": "stream",
     "text": [
      "Saving model checkpoint to models/rubert_fine_tune/checkpoint-8500\n",
      "Configuration saved in models/rubert_fine_tune/checkpoint-8500\\config.json\n",
      "Model weights saved in models/rubert_fine_tune/checkpoint-8500\\pytorch_model.bin\n"
     ]
    },
    {
     "name": "stdout",
     "output_type": "stream",
     "text": [
      "{'loss': 0.4407, 'learning_rate': 2.1825266611977033e-06, 'epoch': 3.49}\n"
     ]
    },
    {
     "name": "stderr",
     "output_type": "stream",
     "text": [
      "Saving model checkpoint to models/rubert_fine_tune/checkpoint-9000\n",
      "Configuration saved in models/rubert_fine_tune/checkpoint-9000\\config.json\n",
      "Model weights saved in models/rubert_fine_tune/checkpoint-9000\\pytorch_model.bin\n"
     ]
    },
    {
     "name": "stdout",
     "output_type": "stream",
     "text": [
      "{'loss': 0.4702, 'learning_rate': 1.3109105824446267e-06, 'epoch': 3.69}\n"
     ]
    },
    {
     "name": "stderr",
     "output_type": "stream",
     "text": [
      "Saving model checkpoint to models/rubert_fine_tune/checkpoint-9500\n",
      "Configuration saved in models/rubert_fine_tune/checkpoint-9500\\config.json\n",
      "Model weights saved in models/rubert_fine_tune/checkpoint-9500\\pytorch_model.bin\n"
     ]
    },
    {
     "name": "stdout",
     "output_type": "stream",
     "text": [
      "{'loss': 0.4178, 'learning_rate': 4.3929450369155046e-07, 'epoch': 3.9}\n"
     ]
    },
    {
     "name": "stderr",
     "output_type": "stream",
     "text": [
      "***** Running Evaluation *****\n",
      "  Num examples = 3250\n",
      "  Batch size = 4\n"
     ]
    },
    {
     "data": {
      "application/vnd.jupyter.widget-view+json": {
       "model_id": "e70eef15a7de4cce921761f88caa70c9",
       "version_major": 2,
       "version_minor": 0
      },
      "text/plain": [
       "  0%|          | 0/813 [00:00<?, ?it/s]"
      ]
     },
     "metadata": {},
     "output_type": "display_data"
    },
    {
     "name": "stderr",
     "output_type": "stream",
     "text": [
      "\n",
      "\n",
      "Training completed. Do not forget to share your model on huggingface.co/models =)\n",
      "\n",
      "\n"
     ]
    },
    {
     "name": "stdout",
     "output_type": "stream",
     "text": [
      "{'eval_loss': 0.6083604693412781, 'eval_f1': 0.8492370450553963, 'eval_runtime': 57.6077, 'eval_samples_per_second': 56.416, 'eval_steps_per_second': 14.113, 'epoch': 4.0}\n",
      "{'train_runtime': 3123.7653, 'train_samples_per_second': 12.485, 'train_steps_per_second': 3.122, 'train_loss': 0.5023419119668261, 'epoch': 4.0}\n"
     ]
    },
    {
     "data": {
      "text/plain": [
       "TrainOutput(global_step=9752, training_loss=0.5023419119668261, metrics={'train_runtime': 3123.7653, 'train_samples_per_second': 12.485, 'train_steps_per_second': 3.122, 'train_loss': 0.5023419119668261, 'epoch': 4.0})"
      ]
     },
     "execution_count": 15,
     "metadata": {},
     "output_type": "execute_result"
    }
   ],
   "source": [
    "trainer.train()\n"
   ]
  },
  {
   "cell_type": "code",
   "execution_count": 16,
   "metadata": {},
   "outputs": [
    {
     "name": "stderr",
     "output_type": "stream",
     "text": [
      "***** Running Evaluation *****\n",
      "  Num examples = 3250\n",
      "  Batch size = 4\n"
     ]
    },
    {
     "data": {
      "application/vnd.jupyter.widget-view+json": {
       "model_id": "8773062ed99043da8e9e3ef09deadc02",
       "version_major": 2,
       "version_minor": 0
      },
      "text/plain": [
       "  0%|          | 0/813 [00:00<?, ?it/s]"
      ]
     },
     "metadata": {},
     "output_type": "display_data"
    },
    {
     "data": {
      "text/plain": [
       "{'eval_loss': 0.6083604693412781,\n",
       " 'eval_f1': 0.8492370450553963,\n",
       " 'eval_runtime': 100.2571,\n",
       " 'eval_samples_per_second': 32.417,\n",
       " 'eval_steps_per_second': 8.109,\n",
       " 'epoch': 4.0}"
      ]
     },
     "execution_count": 16,
     "metadata": {},
     "output_type": "execute_result"
    }
   ],
   "source": [
    "trainer.evaluate(test_dataset)\n"
   ]
  },
  {
   "cell_type": "code",
   "execution_count": 16,
   "metadata": {},
   "outputs": [
    {
     "name": "stderr",
     "output_type": "stream",
     "text": [
      "Saving model checkpoint to models/rubert_fine_tune/v1\n",
      "Configuration saved in models/rubert_fine_tune/v1\\config.json\n",
      "Model weights saved in models/rubert_fine_tune/v1\\pytorch_model.bin\n"
     ]
    }
   ],
   "source": [
    "trainer.save_model(\"models/rubert_fine_tune/v2\")"
   ]
  },
  {
   "cell_type": "markdown",
   "metadata": {},
   "source": []
  }
 ],
 "metadata": {
  "kernelspec": {
   "display_name": "Python 3",
   "language": "python",
   "name": "python3"
  },
  "language_info": {
   "codemirror_mode": {
    "name": "ipython",
    "version": 3
   },
   "file_extension": ".py",
   "mimetype": "text/x-python",
   "name": "python",
   "nbconvert_exporter": "python",
   "pygments_lexer": "ipython3",
   "version": "3.8.10"
  },
  "orig_nbformat": 4
 },
 "nbformat": 4,
 "nbformat_minor": 2
}
